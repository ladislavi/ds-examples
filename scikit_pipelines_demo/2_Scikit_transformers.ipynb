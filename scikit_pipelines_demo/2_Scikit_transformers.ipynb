{
 "cells": [
  {
   "cell_type": "code",
   "execution_count": null,
   "metadata": {},
   "outputs": [],
   "source": [
    "import pandas as pd\n",
    "import numpy as np\n",
    "\n",
    "from sklearn.linear_model import LogisticRegression\n",
    "from sklearn.model_selection import train_test_split\n",
    "\n",
    "# Transformers \n",
    "from sklearn.compose import ColumnTransformer\n",
    "from sklearn.impute import SimpleImputer\n",
    "from sklearn.preprocessing import StandardScaler, OneHotEncoder"
   ]
  },
  {
   "cell_type": "code",
   "execution_count": null,
   "metadata": {},
   "outputs": [],
   "source": [
    "# Read data from Titanic dataset.\n",
    "TITANIC_URL = ('https://raw.githubusercontent.com/amueller/'\n",
    "               'scipy-2017-sklearn/091d371/notebooks/datasets/titanic3.csv')\n",
    "\n",
    "df = pd.read_csv(TITANIC_URL)"
   ]
  },
  {
   "cell_type": "code",
   "execution_count": null,
   "metadata": {},
   "outputs": [],
   "source": [
    "mask = np.random.rand(len(df)) < 0.8\n",
    "raw_train = df[mask]\n",
    "raw_test = df[~mask]"
   ]
  },
  {
   "cell_type": "code",
   "execution_count": null,
   "metadata": {},
   "outputs": [],
   "source": [
    "# Split dataset into categorical\n",
    "cat_features = ['sex', 'embarked', 'cabin', 'boat', 'ticket', 'home.dest']\n",
    "\n",
    "raw_train_cat = raw_train[cat_features]\n",
    "raw_test_cat = raw_test[cat_features]\n",
    "\n",
    "# And numerical columns\n",
    "num_features = ['pclass', 'age', 'sibsp', 'fare', 'body']\n",
    "\n",
    "raw_train_num = raw_train[num_features]\n",
    "raw_test_num = raw_test[num_features]"
   ]
  },
  {
   "cell_type": "code",
   "execution_count": null,
   "metadata": {},
   "outputs": [],
   "source": [
    "# Fill NAs in categorical\n",
    "cat_imputer = SimpleImputer(strategy='constant', fill_value='missing')\n",
    "\n",
    "filled_train_cat = cat_imputer.fit_transform(raw_train_cat)\n",
    "filled_test_cat = cat_imputer.transform(raw_test_cat)\n",
    "\n",
    "# And numerical\n",
    "num_imputer = SimpleImputer(strategy='median')\n",
    "\n",
    "filled_train_num = num_imputer.fit_transform(raw_train_num)\n",
    "filled_test_num = num_imputer.transform(raw_test_num)"
   ]
  },
  {
   "cell_type": "code",
   "execution_count": null,
   "metadata": {},
   "outputs": [],
   "source": [
    "# One hot encode categorical\n",
    "onehot = OneHotEncoder(handle_unknown='ignore', sparse=False)\n",
    "\n",
    "encoded_train_cat = onehot.fit_transform(filled_train_cat)\n",
    "encoded_test_cat = onehot.transform(filled_test_cat)"
   ]
  },
  {
   "cell_type": "code",
   "execution_count": null,
   "metadata": {},
   "outputs": [],
   "source": [
    "# Scale numerical\n",
    "scaler = StandardScaler()\n",
    "\n",
    "scaled_train_num = scaler.fit_transform(filled_train_num)\n",
    "scaled_test_num = scaler.transform(filled_test_num)"
   ]
  },
  {
   "cell_type": "code",
   "execution_count": null,
   "metadata": {},
   "outputs": [],
   "source": [
    "# Combine features\n",
    "X_train = np.hstack((encoded_train_cat, scaled_train_num))\n",
    "X_test = np.hstack((encoded_test_cat, scaled_test_num))\n",
    "\n",
    "y_train = raw_train['survived']\n",
    "y_test = raw_test['survived']"
   ]
  },
  {
   "cell_type": "code",
   "execution_count": null,
   "metadata": {},
   "outputs": [],
   "source": [
    "# Train and evaluate a simple model\n",
    "clf = LogisticRegression(solver='liblinear')\n",
    "\n",
    "clf.fit(X_train, y_train)\n",
    "print(f\"Model score: {clf.score(X_test, y_test):.3f}\")"
   ]
  },
  {
   "cell_type": "markdown",
   "metadata": {},
   "source": [
    "What if I need to add a new step, e.g. feature engineering?"
   ]
  }
 ],
 "metadata": {
  "kernelspec": {
   "display_name": "Python 3",
   "language": "python",
   "name": "python3"
  },
  "language_info": {
   "codemirror_mode": {
    "name": "ipython",
    "version": 3
   },
   "file_extension": ".py",
   "mimetype": "text/x-python",
   "name": "python",
   "nbconvert_exporter": "python",
   "pygments_lexer": "ipython3",
   "version": "3.6.7"
  }
 },
 "nbformat": 4,
 "nbformat_minor": 2
}
